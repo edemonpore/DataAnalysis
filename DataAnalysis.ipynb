{
 "cells": [
  {
   "cell_type": "code",
   "execution_count": 5,
   "metadata": {
    "scrolled": true
   },
   "outputs": [
    {
     "name": "stdout",
     "output_type": "stream",
     "text": [
      "\n",
      "DC Offset = 16.86 nA\n",
      "60 Hz noise amplitude = 0.0241  Centered at 58.38 Hz\n"
     ]
    },
    {
     "data": {
      "text/html": [
       "<script>requirejs.config({paths: { 'plotly': ['https://cdn.plot.ly/plotly-latest.min']},});if(!window.Plotly) {{require(['plotly'],function(plotly) {window.Plotly=plotly;});}}</script>"
      ],
      "text/vnd.plotly.v1+html": [
       "<script>requirejs.config({paths: { 'plotly': ['https://cdn.plot.ly/plotly-latest.min']},});if(!window.Plotly) {{require(['plotly'],function(plotly) {window.Plotly=plotly;});}}</script>"
      ]
     },
     "metadata": {},
     "output_type": "display_data"
    },
    {
     "data": {
      "text/plain": [
       "'file://C:\\\\Users\\\\User\\\\temp-plot.html'"
      ]
     },
     "execution_count": 5,
     "metadata": {},
     "output_type": "execute_result"
    }
   ],
   "source": [
    "import numpy as np\n",
    "import math\n",
    "import csv\n",
    "import plotly\n",
    "import plotly.plotly as py\n",
    "import plotly.graph_objs as go\n",
    "from tkinter import *\n",
    "from tkinter import filedialog\n",
    "\n",
    "#Establish plotly settings\n",
    "plotly.tools.set_credentials_file(username='e@demonpore.com', api_key='7HOIUl4yTmgPyY5AA2aI')\n",
    "#plotly.tools.set_config_file(world_readable=False, sharing='private')\n",
    "\n",
    "#Get the data input file\n",
    "root = Tk()\n",
    "root.withdraw()\n",
    "root.update()\n",
    "filename = filedialog.askopenfilename(initialdir = \"C:\\\\Users\\\\User\\\\Desktop\\\\Demonpore\\\\Data\",\n",
    "                                        title = \"Select Data File\",\n",
    "                                        filetypes = ((\"Excel csv\",\"*.csv\"),(\"all files\",\"*.*\")))\n",
    "root.destroy()\n",
    "\n",
    "csvReader = csv.reader(open(filename))\n",
    "\n",
    "current = []\n",
    "voltage = []\n",
    "\n",
    "for row in csvReader:\n",
    "    current.append(float(row[0]))\n",
    "    voltage.append(float(row[1].strip(\".\")))\n",
    "\n",
    "#Set up parameters\n",
    "Fs = 1250.0;\n",
    "Ts = 1.0/Fs;\n",
    "n = len(current)\n",
    "t = np.arange(0,n/Fs,Ts)\n",
    "\n",
    "k = np.arange(n)\n",
    "T = n/Fs\n",
    "frq = k/T\n",
    "frq = frq[range(n//2)]\n",
    "\n",
    "Y = np.fft.fft(current)/n\n",
    "Y = Y[range(n//2)]\n",
    "\n",
    "#Isolate DC and 60 Cycle components\n",
    "DCOffset = Y[0]\n",
    "ACNoise = 0\n",
    "\n",
    "#General loop through data to either filter or isolate artifacts\n",
    "for i in range(n//2):\n",
    "    if (frq[i] >= 58 and frq[i] <= 62):\n",
    "        if abs(Y[i]) >= ACNoise:\n",
    "            ACNoise = abs(Y[i])\n",
    "            ACFreq = frq[i]\n",
    "#    if abs(Y[i]).real >= 0.01:\n",
    "#        print(\"{:.2f}\".format(frq[i]),\"\",abs(Y[i]).real)\n",
    "#        Y[i] = 0\n",
    "\n",
    "print(\"\\nDC Offset = {:.2f}\".format(DCOffset.real), \"nA\")\n",
    "print(\"60 Hz noise amplitude = {:.4f}\".format(ACNoise.real),\n",
    "     \" Centered at {:.2f}\".format(ACFreq), \"Hz\")\n",
    "\n",
    "plotly.offline.init_notebook_mode(connected=True)\n",
    "\n",
    "#Plot raw data\n",
    "trace1 = go.Scattergl(x=t,\n",
    "                    y=current,\n",
    "                    line=dict(color=('rgb(0,63,127)'),width=1),\n",
    "                    name='Current')\n",
    "trace2 = go.Scattergl(x=t,\n",
    "                    y=voltage,\n",
    "                    line=dict(color=('rgb(255,0,0)'), width=1),\n",
    "                    name='Potential',\n",
    "                    yaxis='y2')\n",
    "data = [trace1, trace2]\n",
    "#plot_url = py.plot(data, filename=filename + '_Data')\n",
    "plotly.offline.plot({\"data\": data,\n",
    "                    \"layout\": go.Layout(title=\"Acquired Data\",\n",
    "                                        xaxis=dict(title='Time (s)',\n",
    "                                        titlefont=dict(family='Courier New, monospace',\n",
    "                                                       size=16,\n",
    "                                                       color='rgb(55,55,55)')\n",
    "                                        ),\n",
    "                                        yaxis=dict(title='Current (nA)',\n",
    "                                                    titlefont=dict(family='Courier New, monospace',\n",
    "                                                    size=16,\n",
    "                                                    color='rgb(0,63,127)')\n",
    "                                         ),\n",
    "                                        yaxis2=dict(title='Potential (mV)',\n",
    "                                                    titlefont=dict(family='Courier New, monospace',\n",
    "                                                    size=16,\n",
    "                                                    color='rgb(255,0,0)'),\n",
    "                                                    overlaying='y',\n",
    "                                                    side='right'\n",
    "                                 )\n",
    "                      )\n",
    "})\n",
    "\n",
    "#Plot DFT\n",
    "#plot_url = py.plot(data, filename=filename + '_DFT')\n",
    "plotly.offline.plot({\"data\": [go.Scattergl(x=frq, y=abs(Y).real,\n",
    "                                          line=dict(color=('rgb(255,0,127)'),\n",
    "                                                    width=1))],\n",
    "    \"layout\": go.Layout(title=\"DFT\",\n",
    "                       xaxis=dict(title='Spectrum (Hz)',\n",
    "                                 titlefont=dict(family='Courier New, monospace',\n",
    "                                               size=16,\n",
    "                                               color='rgb(55,55,55)')\n",
    "                                 ),\n",
    "                       yaxis=dict(title='Amplitude',\n",
    "                                 titlefont=dict(family='Courier New, monospace',\n",
    "                                                size=16,\n",
    "                                                color='rgb(55,55,55)')\n",
    "                                 )\n",
    "                    )\n",
    "})"
   ]
  },
  {
   "cell_type": "code",
   "execution_count": null,
   "metadata": {},
   "outputs": [],
   "source": []
  }
 ],
 "metadata": {
  "kernelspec": {
   "display_name": "Python 3",
   "language": "python",
   "name": "python3"
  },
  "language_info": {
   "codemirror_mode": {
    "name": "ipython",
    "version": 3
   },
   "file_extension": ".py",
   "mimetype": "text/x-python",
   "name": "python",
   "nbconvert_exporter": "python",
   "pygments_lexer": "ipython3",
   "version": "3.7.0"
  }
 },
 "nbformat": 4,
 "nbformat_minor": 2
}
